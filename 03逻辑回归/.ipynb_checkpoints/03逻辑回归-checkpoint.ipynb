{
 "cells": [
  {
   "cell_type": "markdown",
   "metadata": {},
   "source": [
    "## 03逻辑回归"
   ]
  },
  {
   "cell_type": "code",
   "execution_count": 1,
   "metadata": {},
   "outputs": [],
   "source": [
    "# 引入使用的库\n",
    "import torch \n",
    "import torch.nn as nn \n",
    "import torchvision \n",
    "import torchvision.transforms as transforms\n"
   ]
  },
  {
   "cell_type": "code",
   "execution_count": 2,
   "metadata": {},
   "outputs": [],
   "source": [
    "# 定义超参数\n",
    "input_size = 784\n",
    "num_classes = 10\n",
    "num_epochs = 5\n",
    "batch_size = 100\n",
    "learning_rate = 0.001"
   ]
  },
  {
   "cell_type": "code",
   "execution_count": 6,
   "metadata": {},
   "outputs": [],
   "source": [
    "# 加载MNIST数据集\n",
    "train_dataset = torchvision.datasets.MNIST('/home/wangye/data',train=True,transform=transforms.ToTensor(),\n",
    "                                          download=True)\n",
    "test_dataset = torchvision.datasets.MNIST(root='/home/wangye/data',\n",
    "                                         train=False,\n",
    "                                         transform=transforms.ToTensor())\n",
    "\n",
    "# 加载训练集、测试集\n",
    "train_loader = torch.utils.data.DataLoader(dataset=train_dataset,\n",
    "                                          batch_size=batch_size,\n",
    "                                          shuffle=True)\n",
    "test_loader = torch.utils.data.DataLoader(dataset=test_dataset,\n",
    "                                         batch_size=batch_size,\n",
    "                                         shuffle=True)\n"
   ]
  },
  {
   "cell_type": "code",
   "execution_count": 7,
   "metadata": {},
   "outputs": [],
   "source": [
    "# 构造逻辑回归模型\n",
    "model = nn.Linear(input_size,num_classes)\n",
    "# 损失函数、优化器\n",
    "criterion = nn.CrossEntropyLoss()\n",
    "optimizer = torch.optim.SGD(model.parameters(),lr=learning_rate)\n"
   ]
  },
  {
   "cell_type": "markdown",
   "metadata": {},
   "source": [
    "## 代码讲解：\n",
    "nn.CrossEntropyLoss():<br>\n",
    "将LogSoftMax和Nllloss集成到一个类\n",
    "适合训练一个多类别的分类器\n"
   ]
  },
  {
   "cell_type": "code",
   "execution_count": 37,
   "metadata": {},
   "outputs": [
    {
     "name": "stdout",
     "output_type": "stream",
     "text": [
      "Epoch[1/5],Step[100/600],Loss:0.7092\n",
      "Epoch[1/5],Step[200/600],Loss:0.5218\n",
      "Epoch[1/5],Step[300/600],Loss:0.6803\n",
      "Epoch[1/5],Step[400/600],Loss:0.6363\n",
      "Epoch[1/5],Step[500/600],Loss:0.5901\n",
      "Epoch[1/5],Step[600/600],Loss:0.7050\n",
      "Epoch[2/5],Step[100/600],Loss:0.5587\n",
      "Epoch[2/5],Step[200/600],Loss:0.4178\n",
      "Epoch[2/5],Step[300/600],Loss:0.6549\n",
      "Epoch[2/5],Step[400/600],Loss:0.5025\n",
      "Epoch[2/5],Step[500/600],Loss:0.5516\n",
      "Epoch[2/5],Step[600/600],Loss:0.5015\n",
      "Epoch[3/5],Step[100/600],Loss:0.5143\n",
      "Epoch[3/5],Step[200/600],Loss:0.5871\n",
      "Epoch[3/5],Step[300/600],Loss:0.6763\n",
      "Epoch[3/5],Step[400/600],Loss:0.5975\n",
      "Epoch[3/5],Step[500/600],Loss:0.4875\n",
      "Epoch[3/5],Step[600/600],Loss:0.5640\n",
      "Epoch[4/5],Step[100/600],Loss:0.6122\n",
      "Epoch[4/5],Step[200/600],Loss:0.5534\n",
      "Epoch[4/5],Step[300/600],Loss:0.4725\n",
      "Epoch[4/5],Step[400/600],Loss:0.6262\n",
      "Epoch[4/5],Step[500/600],Loss:0.6043\n",
      "Epoch[4/5],Step[600/600],Loss:0.5197\n",
      "Epoch[5/5],Step[100/600],Loss:0.4583\n",
      "Epoch[5/5],Step[200/600],Loss:0.5113\n",
      "Epoch[5/5],Step[300/600],Loss:0.6583\n",
      "Epoch[5/5],Step[400/600],Loss:0.5425\n",
      "Epoch[5/5],Step[500/600],Loss:0.5824\n",
      "Epoch[5/5],Step[600/600],Loss:0.4901\n"
     ]
    }
   ],
   "source": [
    "# 训练模型\n",
    "total_step = len(train_loader)\n",
    "for epoch in range(num_epochs):\n",
    "    for i,(images,labels) in enumerate(train_loader):\n",
    "#         重新改变图片大小\n",
    "#         print(images.shape) \n",
    "        images = images.reshape(-1,28*28)\n",
    "#         print(images.shape)\n",
    "#       前向传播,丢给模型\n",
    "        outputs = model(images)\n",
    "        loss = criterion(outputs,labels)\n",
    "#       反向传播和优化\n",
    "#       所有变量的权重清零\n",
    "        optimizer.zero_grad()\n",
    "        loss.backward()\n",
    "        optimizer.step()\n",
    "        \n",
    "        if (i+1)%100 == 0 :\n",
    "            print('Epoch[{}/{}],Step[{}/{}],Loss:{:.4f}'\n",
    "                 .format(epoch+1,num_epochs,i+1,total_step,loss.item()))\n",
    "            "
   ]
  },
  {
   "cell_type": "code",
   "execution_count": 45,
   "metadata": {},
   "outputs": [
    {
     "name": "stdout",
     "output_type": "stream",
     "text": [
      "10000条测试集的准确率为86%\n",
      "10000条测试集的准确率为86%\n",
      "10000条测试集的准确率为86%\n",
      "10000条测试集的准确率为88%\n",
      "10000条测试集的准确率为89%\n",
      "10000条测试集的准确率为89%\n",
      "10000条测试集的准确率为88%\n",
      "10000条测试集的准确率为89%\n",
      "10000条测试集的准确率为88%\n",
      "10000条测试集的准确率为88%\n",
      "10000条测试集的准确率为88%\n",
      "10000条测试集的准确率为88%\n",
      "10000条测试集的准确率为88%\n",
      "10000条测试集的准确率为87%\n",
      "10000条测试集的准确率为87%\n",
      "10000条测试集的准确率为87%\n",
      "10000条测试集的准确率为87%\n",
      "10000条测试集的准确率为87%\n",
      "10000条测试集的准确率为87%\n",
      "10000条测试集的准确率为87%\n",
      "10000条测试集的准确率为87%\n",
      "10000条测试集的准确率为87%\n",
      "10000条测试集的准确率为87%\n",
      "10000条测试集的准确率为87%\n",
      "10000条测试集的准确率为87%\n",
      "10000条测试集的准确率为87%\n",
      "10000条测试集的准确率为87%\n",
      "10000条测试集的准确率为87%\n",
      "10000条测试集的准确率为87%\n",
      "10000条测试集的准确率为87%\n",
      "10000条测试集的准确率为87%\n",
      "10000条测试集的准确率为86%\n",
      "10000条测试集的准确率为87%\n",
      "10000条测试集的准确率为87%\n",
      "10000条测试集的准确率为86%\n",
      "10000条测试集的准确率为87%\n",
      "10000条测试集的准确率为87%\n",
      "10000条测试集的准确率为87%\n",
      "10000条测试集的准确率为87%\n",
      "10000条测试集的准确率为87%\n",
      "10000条测试集的准确率为87%\n",
      "10000条测试集的准确率为87%\n",
      "10000条测试集的准确率为87%\n",
      "10000条测试集的准确率为87%\n",
      "10000条测试集的准确率为87%\n",
      "10000条测试集的准确率为87%\n",
      "10000条测试集的准确率为87%\n",
      "10000条测试集的准确率为87%\n",
      "10000条测试集的准确率为87%\n",
      "10000条测试集的准确率为87%\n",
      "10000条测试集的准确率为87%\n",
      "10000条测试集的准确率为87%\n",
      "10000条测试集的准确率为87%\n",
      "10000条测试集的准确率为87%\n",
      "10000条测试集的准确率为87%\n",
      "10000条测试集的准确率为87%\n",
      "10000条测试集的准确率为87%\n",
      "10000条测试集的准确率为87%\n",
      "10000条测试集的准确率为87%\n",
      "10000条测试集的准确率为87%\n",
      "10000条测试集的准确率为87%\n",
      "10000条测试集的准确率为87%\n",
      "10000条测试集的准确率为87%\n",
      "10000条测试集的准确率为87%\n",
      "10000条测试集的准确率为87%\n",
      "10000条测试集的准确率为87%\n",
      "10000条测试集的准确率为87%\n",
      "10000条测试集的准确率为87%\n",
      "10000条测试集的准确率为87%\n",
      "10000条测试集的准确率为87%\n",
      "10000条测试集的准确率为87%\n",
      "10000条测试集的准确率为87%\n",
      "10000条测试集的准确率为87%\n",
      "10000条测试集的准确率为87%\n",
      "10000条测试集的准确率为87%\n",
      "10000条测试集的准确率为87%\n",
      "10000条测试集的准确率为87%\n",
      "10000条测试集的准确率为87%\n",
      "10000条测试集的准确率为87%\n",
      "10000条测试集的准确率为87%\n",
      "10000条测试集的准确率为87%\n",
      "10000条测试集的准确率为87%\n",
      "10000条测试集的准确率为87%\n",
      "10000条测试集的准确率为87%\n",
      "10000条测试集的准确率为87%\n",
      "10000条测试集的准确率为87%\n",
      "10000条测试集的准确率为87%\n",
      "10000条测试集的准确率为87%\n",
      "10000条测试集的准确率为87%\n",
      "10000条测试集的准确率为87%\n",
      "10000条测试集的准确率为87%\n",
      "10000条测试集的准确率为87%\n",
      "10000条测试集的准确率为87%\n",
      "10000条测试集的准确率为87%\n",
      "10000条测试集的准确率为87%\n",
      "10000条测试集的准确率为87%\n",
      "10000条测试集的准确率为87%\n",
      "10000条测试集的准确率为87%\n",
      "10000条测试集的准确率为87%\n",
      "10000条测试集的准确率为87%\n"
     ]
    }
   ],
   "source": [
    "# 测试模型\n",
    "with torch.no_grad():\n",
    "    correct = 0\n",
    "    total = 0\n",
    "    for images , labels in test_loader:\n",
    "        images = images.reshape(-1,28*28)\n",
    "        outputs = model(images)\n",
    "        _,predicted = torch.max(outputs.data,1)\n",
    "        total +=labels.size(0)\n",
    "        correct += (predicted==labels).sum()\n",
    "        print('10000条测试集的准确率为{}%'.format(100*correct/total))\n",
    "torch.save(model.state_dict(),'model.ckpt')"
   ]
  },
  {
   "cell_type": "markdown",
   "metadata": {},
   "source": [
    "___"
   ]
  },
  {
   "cell_type": "markdown",
   "metadata": {},
   "source": [
    "## 上述代码讲解：\n",
    "1. torch.no_grad()：\n",
    "    * 相当于旧版本的volatile=True，不进行求导和反向传播，也就是不会计算梯度，这么做的原因是为了在测试阶段提高内存的效率\n",
    "    \n",
    "    "
   ]
  }
 ],
 "metadata": {
  "kernelspec": {
   "display_name": "Python 3",
   "language": "python",
   "name": "python3"
  },
  "language_info": {
   "codemirror_mode": {
    "name": "ipython",
    "version": 3
   },
   "file_extension": ".py",
   "mimetype": "text/x-python",
   "name": "python",
   "nbconvert_exporter": "python",
   "pygments_lexer": "ipython3",
   "version": "3.6.4"
  }
 },
 "nbformat": 4,
 "nbformat_minor": 2
}
