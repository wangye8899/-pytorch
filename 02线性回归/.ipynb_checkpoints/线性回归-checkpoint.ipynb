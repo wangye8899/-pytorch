{
 "cells": [
  {
   "cell_type": "markdown",
   "metadata": {},
   "source": [
    "## 02线性回归\n",
    "___"
   ]
  },
  {
   "cell_type": "code",
   "execution_count": 3,
   "metadata": {},
   "outputs": [],
   "source": [
    "# 导入需要的工具\n",
    "import torch \n",
    "import torch.nn as nn \n",
    "import numpy as np \n",
    "import matplotlib.pyplot as plt "
   ]
  },
  {
   "cell_type": "code",
   "execution_count": 4,
   "metadata": {},
   "outputs": [],
   "source": [
    "# 定义超参数\n",
    "input_size = 1 \n",
    "output_size = 1\n",
    "num_epochs = 60\n",
    "learning_rate = 0.001\n"
   ]
  },
  {
   "cell_type": "code",
   "execution_count": 5,
   "metadata": {},
   "outputs": [
    {
     "name": "stdout",
     "output_type": "stream",
     "text": [
      "x的形状 (15, 1)\n",
      "y的形状 (15, 1)\n"
     ]
    }
   ],
   "source": [
    "# 玩具数据集\n",
    "x_train = np.array([[3.3], [4.4], [5.5], [6.71], [6.93], [4.168], \n",
    "                    [9.779], [6.182], [7.59], [2.167], [7.042], \n",
    "                    [10.791], [5.313], [7.997], [3.1]], dtype=np.float32)\n",
    "\n",
    "y_train = np.array([[1.7], [2.76], [2.09], [3.19], [1.694], [1.573], \n",
    "                    [3.366], [2.596], [2.53], [1.221], [2.827], \n",
    "                    [3.465], [1.65], [2.904], [1.3]], dtype=np.float32)\n",
    "print('x的形状',x_train.shape)\n",
    "print('y的形状',y_train.shape)"
   ]
  },
  {
   "cell_type": "code",
   "execution_count": 6,
   "metadata": {},
   "outputs": [],
   "source": [
    "# 线性回归模型的代码编写\n",
    "model = nn.Linear(input_size,output_size)\n",
    "# 定义损失和优化\n",
    "criterion = nn.MSELoss()\n",
    "optimizer = torch.optim.SGD(model.parameters(),lr=learning_rate)\n"
   ]
  },
  {
   "cell_type": "code",
   "execution_count": 7,
   "metadata": {},
   "outputs": [
    {
     "name": "stdout",
     "output_type": "stream",
     "text": [
      "Epoch[5/60],Loss:1.9137\n",
      "Epoch[10/60],Loss:0.9309\n",
      "Epoch[15/60],Loss:0.5326\n",
      "Epoch[20/60],Loss:0.3711\n",
      "Epoch[25/60],Loss:0.3055\n",
      "Epoch[30/60],Loss:0.2788\n",
      "Epoch[35/60],Loss:0.2678\n",
      "Epoch[40/60],Loss:0.2633\n",
      "Epoch[45/60],Loss:0.2613\n",
      "Epoch[50/60],Loss:0.2603\n",
      "Epoch[55/60],Loss:0.2598\n",
      "Epoch[60/60],Loss:0.2595\n"
     ]
    }
   ],
   "source": [
    "# 训练模型\n",
    "for epoch in range(num_epochs):\n",
    "#     转换numpy成tensor\n",
    "    inputs = torch.from_numpy(x_train)\n",
    "    targets = torch.from_numpy(y_train)\n",
    "#     前向传播，此处还没有涉及反向传播\n",
    "# 将数据喂给模型，实现预测\n",
    "    outputs = model(inputs)\n",
    "# 比较预测和实际，计算损失率\n",
    "    loss = criterion(outputs,targets)\n",
    "#     print('前向传播的损失率',loss)\n",
    "#     现在进行反向传播，更新参数\n",
    "    optimizer.zero_grad()\n",
    "    loss.backward()\n",
    "    optimizer.step()\n",
    "#     每5个epoch便输出一次结果\n",
    "    if (epoch+1)%5==0:\n",
    "        print('Epoch[{}/{}],Loss:{:.4f}'.format(epoch+1,num_epochs,loss.item()))"
   ]
  },
  {
   "cell_type": "code",
   "execution_count": 10,
   "metadata": {},
   "outputs": [
    {
     "data": {
      "image/png": "[encoded data removed]",
      "text/plain": [
       "<Figure size 432x288 with 1 Axes>"
      ]
     },
     "metadata": {
      "needs_background": "light"
     },
     "output_type": "display_data"
    }
   ],
   "source": [
    "# 可视化\n",
    "predicted = model(torch.from_numpy(x_train)).detach().numpy()\n",
    "plt.plot(x_train,y_train,'ro',label='Original Data')\n",
    "plt.plot(x_train,predicted,label='Fitted Data')\n",
    "plt.legend()\n",
    "plt.show()"
   ]
  },
  {
   "cell_type": "code",
   "execution_count": 11,
   "metadata": {},
   "outputs": [],
   "source": [
    "# 保存模型的参数\n",
    "torch.save(model.state_dict(),'线性回归.ckpt')"
   ]
  },
  {
   "cell_type": "markdown",
   "metadata": {},
   "source": [
    "## 上述代码讲解：\n",
    "___\n"
   ]
  },
  {
   "cell_type": "markdown",
   "metadata": {},
   "source": [
    "1. optimizer.zero_grad()<br>\n",
    "注：Pytorch在反向传播中一定要手动将梯度清零，因为PyTorch默认会对梯度进行累加\n",
    "2. optimizer.step()<br>\n",
    "所有的optimizer都将取去运行step方法，这个方法将更新所有的参数，只要损失函数执行了 loss.backward()反向传播\n",
    "3. predicted = model(torch.from_numpy(x_train)).detach().numpy()\n",
    "    *model接收tensor类型的数据，因此需要将numpy转换成tensor\n",
    "    *detach()方法返回相同数据的tensor\n",
    "4. plt.legend() 执行后 ，会对图中数据附上中文名称\n",
    "\n",
    "    "
   ]
  },
  {
   "cell_type": "code",
   "execution_count": null,
   "metadata": {},
   "outputs": [],
   "source": []
  }
 ],
 "metadata": {
  "kernelspec": {
   "display_name": "Python 3",
   "language": "python",
   "name": "python3"
  },
  "language_info": {
   "codemirror_mode": {
    "name": "ipython",
    "version": 3
   },
   "file_extension": ".py",
   "mimetype": "text/x-python",
   "name": "python",
   "nbconvert_exporter": "python",
   "pygments_lexer": "ipython3",
   "version": "3.6.4"
  }
 },
 "nbformat": 4,
 "nbformat_minor": 2
}
