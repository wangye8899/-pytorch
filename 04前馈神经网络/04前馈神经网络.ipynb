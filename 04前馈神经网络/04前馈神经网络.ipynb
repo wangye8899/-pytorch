{
 "cells": [
  {
   "cell_type": "markdown",
   "metadata": {},
   "source": [
    "## 04前馈神经网络\n",
    "___"
   ]
  },
  {
   "cell_type": "code",
   "execution_count": 7,
   "metadata": {},
   "outputs": [],
   "source": [
    "import torch \n",
    "import torch.nn as nn\n",
    "import torchvision\n",
    "import torchvision.transforms as transforms\n",
    "# 设置你自己的device\n",
    "device = torch.device('cpu')\n",
    "# 设置超参数\n",
    "input_size = 784\n",
    "hidden_size = 500\n",
    "num_classes = 10\n",
    "num_epoches = 5 \n",
    "batch_size = 100\n",
    "learning_rate = 0.001\n",
    "\n",
    "# MNIST数据集\n",
    "train_dataset = torchvision.datasets.MNIST(root='/home/wangye/data',\n",
    "                                          train=True,\n",
    "                                          transform=transforms.ToTensor(),\n",
    "                                          download=True)\n",
    "test_dataset = torchvision.datasets.MNIST(root='/home/wangye/data',\n",
    "                                         train=False,\n",
    "                                         transform=transforms.ToTensor())\n",
    "# 数据加载\n",
    "train_loader = torch.utils.data.DataLoader(dataset=train_dataset,\n",
    "                                          batch_size=batch_size,\n",
    "                                          shuffle=True)\n",
    "\n",
    "test_loader = torch.utils.data.DataLoader(dataset=test_dataset,\n",
    "                                         batch_size=batch_size,\n",
    "                                         shuffle=False)"
   ]
  },
  {
   "cell_type": "code",
   "execution_count": 8,
   "metadata": {},
   "outputs": [],
   "source": [
    "# 全连接神经网络、一个隐藏层\n",
    "class NeuralNet(nn.Module):\n",
    "    def __init__(self,input_size,hidden_size,num_classes):\n",
    "        super(NeuralNet,self).__init__()\n",
    "        self.fc1 = nn.Linear(input_size,hidden_size)\n",
    "        self.relu = nn.ReLU()\n",
    "        self.fc2 = nn.Linear(hidden_size,num_classes)\n",
    "    def forward(self,x):\n",
    "        out = self.fc1(x)\n",
    "        out = self.relu(out)\n",
    "        out = self.fc2(out)\n",
    "        return out "
   ]
  },
  {
   "cell_type": "markdown",
   "metadata": {},
   "source": [
    "## 代码讲解\n",
    "___\n",
    "1. super(NeuralNet,self).__init__()\n",
    "    * 我们定义了自己的网络类NeualNet,并且我们继承了nn.Moudle，那么必须在子类的构造函数中声明，也就是上述代码的意义\n",
    "    * 本网络设置了两个层，fc1，fc2，并且在fc1和fc2之间设置了Relu激活函数\n",
    "2. __init__():\n",
    "    * 在类初始化的时候便会执行，基本都是用来设置网络结构的\n",
    "3. forward(* input):\n",
    "    * 根据官方文档,此函数定义了每次执行的计算步骤，在所有的子类中，我们都需要重写这个函数，也就是上述代码。\n"
   ]
  },
  {
   "cell_type": "code",
   "execution_count": 10,
   "metadata": {},
   "outputs": [],
   "source": [
    "# 实例化模型，并指定device\n",
    "model = NeuralNet(input_size,hidden_size,num_classes).to(device)\n",
    "# 定义损失函数和优化器\n",
    "criterion = nn.CrossEntropyLoss()\n",
    "optimizer = torch.optim.Adam(model.parameters(),lr=learning_rate)\n",
    "\n"
   ]
  },
  {
   "cell_type": "markdown",
   "metadata": {},
   "source": [
    "## 上述代码讲解：\n",
    "1. torch.optim.Adam()\n",
    "    * 其实这也是优化器的一种，只不过这种优化器实现了ADAM算法，不必太过在意定义性的东西，最主要的是学会使用，然后慢慢深入\n",
    "    "
   ]
  },
  {
   "cell_type": "code",
   "execution_count": 11,
   "metadata": {},
   "outputs": [
    {
     "name": "stdout",
     "output_type": "stream",
     "text": [
      "Epoch[1/5],Step[100/600],Loss:0.3001\n",
      "Epoch[1/5],Step[200/600],Loss:0.2607\n",
      "Epoch[1/5],Step[300/600],Loss:0.2079\n",
      "Epoch[1/5],Step[400/600],Loss:0.2636\n",
      "Epoch[1/5],Step[500/600],Loss:0.0783\n",
      "Epoch[1/5],Step[600/600],Loss:0.2077\n",
      "Epoch[2/5],Step[100/600],Loss:0.1822\n",
      "Epoch[2/5],Step[200/600],Loss:0.1418\n",
      "Epoch[2/5],Step[300/600],Loss:0.0752\n",
      "Epoch[2/5],Step[400/600],Loss:0.0588\n",
      "Epoch[2/5],Step[500/600],Loss:0.0939\n",
      "Epoch[2/5],Step[600/600],Loss:0.1257\n",
      "Epoch[3/5],Step[100/600],Loss:0.0326\n",
      "Epoch[3/5],Step[200/600],Loss:0.1178\n",
      "Epoch[3/5],Step[300/600],Loss:0.1635\n",
      "Epoch[3/5],Step[400/600],Loss:0.0557\n",
      "Epoch[3/5],Step[500/600],Loss:0.0312\n",
      "Epoch[3/5],Step[600/600],Loss:0.1455\n",
      "Epoch[4/5],Step[100/600],Loss:0.0961\n",
      "Epoch[4/5],Step[200/600],Loss:0.0525\n",
      "Epoch[4/5],Step[300/600],Loss:0.0449\n",
      "Epoch[4/5],Step[400/600],Loss:0.0776\n",
      "Epoch[4/5],Step[500/600],Loss:0.0317\n",
      "Epoch[4/5],Step[600/600],Loss:0.0136\n",
      "Epoch[5/5],Step[100/600],Loss:0.0401\n",
      "Epoch[5/5],Step[200/600],Loss:0.0358\n",
      "Epoch[5/5],Step[300/600],Loss:0.0121\n",
      "Epoch[5/5],Step[400/600],Loss:0.0726\n",
      "Epoch[5/5],Step[500/600],Loss:0.0380\n",
      "Epoch[5/5],Step[600/600],Loss:0.0795\n"
     ]
    }
   ],
   "source": [
    "# 训练模型\n",
    "total_step = len(train_loader)\n",
    "for epoch in range(num_epoches):\n",
    "    for i,(images , labels) in enumerate(train_loader):\n",
    "        images = images.reshape(-1,28*28).to(device)\n",
    "        labels = labels.to(device)\n",
    "        \n",
    "        \n",
    "#       向前传递\n",
    "        outputs = model(images)\n",
    "        loss = criterion(outputs,labels)\n",
    "#       反向传播和优化参数\n",
    "        optimizer.zero_grad()\n",
    "        loss.backward()\n",
    "        optimizer.step()\n",
    "        \n",
    "        if (i+1)%100 == 0:\n",
    "#             训练100条，便输出具体训练情况\n",
    "            print('Epoch[{}/{}],Step[{}/{}],Loss:{:.4f}'.format(\n",
    "            epoch+1,num_epoches,i+1,total_step,loss.item()))"
   ]
  },
  {
   "cell_type": "code",
   "execution_count": 24,
   "metadata": {},
   "outputs": [
    {
     "name": "stdout",
     "output_type": "stream",
     "text": [
      "10000张测试图片经过该神经网络的测试效果：97.74%\n"
     ]
    }
   ],
   "source": [
    "# 测试模型\n",
    "with torch.no_grad():\n",
    "    correct = 0 \n",
    "    total = 0\n",
    "    for images , labels in test_loader:\n",
    "        images = images.reshape(-1,28*28).to(device)\n",
    "        labels = labels.to(device)\n",
    "#         print(labels.shape)\n",
    "        outputs = model(images)\n",
    "#         print(outputs.data.size())\n",
    "        _,predicted = torch.max(outputs.data,1)\n",
    "        total += labels.size(0)\n",
    "        correct += (predicted==labels).sum().item()\n",
    "    print('10000张测试图片经过该神经网络的测试效果：{}%'.format(100*correct/total))\n",
    "torch.save(model.state_dict(),'model.ckpt')"
   ]
  },
  {
   "cell_type": "markdown",
   "metadata": {},
   "source": [
    "## 上述代码讲解：\n",
    "1. with torch.no_grad():\n",
    "    * 在上一篇我们已经提过，在过去我们使用的是“volatile=True”，从当前运行的网络中分离参数，免去梯度运算。那么在新的版本的Pytorch中，我们使用的是上述方法。\n",
    "2. torch.max(outputs.data,1):\n",
    "    * 这个方法有设置参数和不设置参数两种方法，不设置参数即为求解最大值，设置dim参数，则指定了具体在哪个维度上找max，我们下面通过程序来具体演示：\n",
    "    "
   ]
  },
  {
   "cell_type": "code",
   "execution_count": 20,
   "metadata": {},
   "outputs": [
    {
     "name": "stdout",
     "output_type": "stream",
     "text": [
      "torch.return_types.max(\n",
      "values=tensor([2, 2, 5]),\n",
      "indices=tensor([1, 0, 1]))\n"
     ]
    }
   ],
   "source": [
    "#设置参数为0 指定维度为第一个维度\n",
    "import numpy \n",
    "a = numpy.array([[1,2,3],[2,1,5]])\n",
    "a = torch.from_numpy(a)\n",
    "print(torch.max(a,0))"
   ]
  },
  {
   "cell_type": "markdown",
   "metadata": {},
   "source": [
    "可以看到，返回值为[2,2,5]，且具体的索引为[1,0,1],也就是按照行来找，最终得到每列元素的最大值，组成一行"
   ]
  },
  {
   "cell_type": "code",
   "execution_count": 22,
   "metadata": {},
   "outputs": [
    {
     "name": "stdout",
     "output_type": "stream",
     "text": [
      "torch.return_types.max(\n",
      "values=tensor([3, 5]),\n",
      "indices=tensor([2, 2]))\n"
     ]
    }
   ],
   "source": [
    "# 设置参数为1 指定维度为第二个维度\n",
    "print(torch.max(a,1))"
   ]
  },
  {
   "cell_type": "markdown",
   "metadata": {},
   "source": [
    "可以看到，返回值为[3,5]，且具体的索引为[2,2],也就是按照列来找，最终得到每行元素的最大值，组成一列"
   ]
  },
  {
   "cell_type": "code",
   "execution_count": null,
   "metadata": {},
   "outputs": [],
   "source": []
  }
 ],
 "metadata": {
  "kernelspec": {
   "display_name": "Python 3",
   "language": "python",
   "name": "python3"
  },
  "language_info": {
   "codemirror_mode": {
    "name": "ipython",
    "version": 3
   },
   "file_extension": ".py",
   "mimetype": "text/x-python",
   "name": "python",
   "nbconvert_exporter": "python",
   "pygments_lexer": "ipython3",
   "version": "3.6.4"
  }
 },
 "nbformat": 4,
 "nbformat_minor": 2
}
